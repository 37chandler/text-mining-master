{
 "cells": [
  {
   "cell_type": "markdown",
   "metadata": {},
   "source": [
    "## Sentiment Analysis\n",
    "\n",
    "Let's use the movie review corpus to train a sentiment classifier."
   ]
  },
  {
   "cell_type": "code",
   "execution_count": 1,
   "metadata": {
    "collapsed": false
   },
   "outputs": [],
   "source": [
    "import random\n",
    "import nltk"
   ]
  },
  {
   "cell_type": "code",
   "execution_count": 2,
   "metadata": {
    "collapsed": true
   },
   "outputs": [],
   "source": [
    "from nltk.corpus import movie_reviews\n",
    "documents = [(list(movie_reviews.words(fileid)), category)\n",
    "             for category in movie_reviews.categories()\n",
    "             for fileid in movie_reviews.fileids(category)]\n",
    "random.shuffle(documents)"
   ]
  },
  {
   "cell_type": "code",
   "execution_count": 3,
   "metadata": {
    "collapsed": false
   },
   "outputs": [
    {
     "name": "stdout",
     "output_type": "stream",
     "text": [
      "neg\n",
      "\n",
      "it ' s a sad state of affairs when the back box blurb is more exciting than the movie contained within it . such is the case for the 1990 paul mayersberg film _the last samurai_ . though the blurb alludes to \" a jungle filled with political intrigue , uneasy alliances , and murderous enemies at every turn , \" the story of the movie is actually quite simple ( and prosaic ) : a middle - aged japanese businessman named endo ( played by john fujioka ) and his assistant , both of whom have samurai aspirations , travel to africa in search of his ancestor , who went to bring buddhism to africa . he hires the services of down - at - the - heels vietnam veteran pilot johnny congo ( the redoubtable lance henriksen ) and his girlfriend ( arabella holzbog ) , and travels to the camp of an arms - merchant - cum - safari - host - cum - islamic - missionary ( john saxon ) and his wife ( lisa eilbacher ) . they are all kidnapped by an african revolutionary guerilla with witch - doctor aspirations to conceal a pre - arranged arms deal , which subsequently falls through . congo escapes , finds endo ' s ancestor ' s sword , and comes back , guns blazing , to free the rest of them , and endo kills the revolutionary with the sword . the end . _the last samurai_ is one of those movies that is neither bad enough nor good enough to be enjoyable . it is merely _there_ . the murky plot is filled with subtexts that are never elaborated , subplots that are never explained , and many scenes that make very little sense at all . the film is shot through with all the tired old \" inscrutable japanese samurai \" and zen stereotypes that are to be expected from an american movie . it is quite slow - paced , with only a bit of action near the end , and the final duel between endo and the terrorist is quite anticlimactic . most of the acting is fair , with the possible exception of congo ' s girlfriend . lance henriksen is his usual scene - chewing self , and is one of few possible reasons anyone might conceivably have for seeing this movie . the only other bright spot is the sweeping african scenery . i paid $ 3 for this film , from the discount rack at best buy , and halfway suspect i overpaid for it . if you are in the mood for samurai , read a clavell novel or watch a kurusawa movie . skip _the last samurai_ unless you are a die - hard henriksen fan .\n"
     ]
    }
   ],
   "source": [
    "# These documents are tuples. \n",
    "# The first spot is the review (as a list of words). The second is the classification. \n",
    "# Let's look at one.\n",
    "\n",
    "# classification\n",
    "print(documents[0][1])\n",
    "print() # Add a return for spacing\n",
    "\n",
    "# review\n",
    "print(\" \".join(documents[0][0]))\n"
   ]
  },
  {
   "cell_type": "code",
   "execution_count": 5,
   "metadata": {
    "collapsed": false
   },
   "outputs": [],
   "source": [
    "# build a list of all words\n",
    "all_words = nltk.FreqDist(w.lower() for w in movie_reviews.words())\n",
    "\n",
    "# Get 2500 most frequent words\n",
    "word_features = [w[0] for w in all_words.most_common(2500)]\n",
    "#word_features = list(all_words)[:2500]\n",
    "\n",
    "\n",
    "def document_features(document): \n",
    "    # We use a set here. Remind me to tell you why...\n",
    "    document_words = set(document) \n",
    "    features = {}\n",
    "    for word in word_features:\n",
    "        features['contains({})'.format(word)] = (word in document_words)\n",
    "    return features"
   ]
  },
  {
   "cell_type": "code",
   "execution_count": 6,
   "metadata": {
    "collapsed": true
   },
   "outputs": [],
   "source": [
    "featuresets = [(document_features(d), c) for (d,c) in documents]\n",
    "train_set, test_set = featuresets[100:], featuresets[:100]\n",
    "classifier = nltk.NaiveBayesClassifier.train(train_set)"
   ]
  },
  {
   "cell_type": "code",
   "execution_count": 7,
   "metadata": {
    "collapsed": false
   },
   "outputs": [
    {
     "name": "stdout",
     "output_type": "stream",
     "text": [
      "0.77\n"
     ]
    }
   ],
   "source": [
    "print(nltk.classify.accuracy(classifier, test_set))"
   ]
  },
  {
   "cell_type": "code",
   "execution_count": 8,
   "metadata": {
    "collapsed": false
   },
   "outputs": [
    {
     "name": "stdout",
     "output_type": "stream",
     "text": [
      "Most Informative Features\n",
      "   contains(outstanding) = True              pos : neg    =     10.8 : 1.0\n",
      "         contains(mulan) = True              pos : neg    =      9.0 : 1.0\n",
      "        contains(finest) = True              pos : neg    =      7.9 : 1.0\n",
      "        contains(seagal) = True              neg : pos    =      7.8 : 1.0\n",
      "    contains(schumacher) = True              neg : pos    =      7.4 : 1.0\n",
      "   contains(wonderfully) = True              pos : neg    =      7.0 : 1.0\n",
      "        contains(wasted) = True              neg : pos    =      5.8 : 1.0\n",
      "          contains(lame) = True              neg : pos    =      5.7 : 1.0\n",
      "         contains(awful) = True              neg : pos    =      5.7 : 1.0\n",
      "        contains(ripley) = True              pos : neg    =      5.6 : 1.0\n",
      "         contains(flynt) = True              pos : neg    =      5.6 : 1.0\n",
      "         contains(damon) = True              pos : neg    =      5.4 : 1.0\n",
      "         contains(waste) = True              neg : pos    =      5.1 : 1.0\n",
      "    contains(delightful) = True              pos : neg    =      4.8 : 1.0\n",
      "        contains(poorly) = True              neg : pos    =      4.7 : 1.0\n",
      "      contains(ordinary) = True              pos : neg    =      4.7 : 1.0\n",
      "    contains(ridiculous) = True              neg : pos    =      4.7 : 1.0\n",
      "           contains(era) = True              pos : neg    =      4.6 : 1.0\n",
      "     contains(painfully) = True              neg : pos    =      4.5 : 1.0\n",
      "        contains(allows) = True              pos : neg    =      4.3 : 1.0\n",
      "         contains(worst) = True              neg : pos    =      4.3 : 1.0\n",
      "         contains(bland) = True              neg : pos    =      4.3 : 1.0\n",
      "        contains(stupid) = True              neg : pos    =      4.3 : 1.0\n",
      "       contains(unfunny) = True              neg : pos    =      4.2 : 1.0\n",
      "     contains(pointless) = True              neg : pos    =      4.2 : 1.0\n",
      " contains(uninteresting) = True              neg : pos    =      4.2 : 1.0\n",
      "  contains(embarrassing) = True              neg : pos    =      4.1 : 1.0\n",
      "          contains(dull) = True              neg : pos    =      4.0 : 1.0\n",
      "     contains(fantastic) = True              pos : neg    =      4.0 : 1.0\n",
      "     contains(portrayal) = True              pos : neg    =      4.0 : 1.0\n",
      "        contains(german) = True              pos : neg    =      3.9 : 1.0\n",
      "          contains(mess) = True              neg : pos    =      3.8 : 1.0\n",
      "    contains(nomination) = True              pos : neg    =      3.7 : 1.0\n",
      "        contains(superb) = True              pos : neg    =      3.7 : 1.0\n",
      "          contains(jedi) = True              pos : neg    =      3.7 : 1.0\n",
      "     contains(memorable) = True              pos : neg    =      3.6 : 1.0\n",
      "          contains(anna) = True              pos : neg    =      3.5 : 1.0\n",
      "     contains(portrayed) = True              pos : neg    =      3.5 : 1.0\n",
      "      contains(terrific) = True              pos : neg    =      3.5 : 1.0\n",
      "     contains(laughable) = True              neg : pos    =      3.5 : 1.0\n",
      "        contains(harris) = True              pos : neg    =      3.4 : 1.0\n",
      "     contains(excellent) = True              pos : neg    =      3.4 : 1.0\n",
      "    contains(friendship) = True              pos : neg    =      3.4 : 1.0\n",
      "        contains(boring) = True              neg : pos    =      3.3 : 1.0\n",
      "     contains(initially) = True              pos : neg    =      3.3 : 1.0\n",
      "         contains(flaws) = True              pos : neg    =      3.3 : 1.0\n",
      " contains(understanding) = True              pos : neg    =      3.2 : 1.0\n",
      "         contains(badly) = True              neg : pos    =      3.2 : 1.0\n",
      "       contains(italian) = True              pos : neg    =      3.2 : 1.0\n",
      "       contains(freedom) = True              pos : neg    =      3.2 : 1.0\n"
     ]
    }
   ],
   "source": [
    "classifier.show_most_informative_features(50)"
   ]
  }
 ],
 "metadata": {
  "kernelspec": {
   "display_name": "Python 3",
   "language": "python",
   "name": "python3"
  },
  "language_info": {
   "codemirror_mode": {
    "name": "ipython",
    "version": 3
   },
   "file_extension": ".py",
   "mimetype": "text/x-python",
   "name": "python",
   "nbconvert_exporter": "python",
   "pygments_lexer": "ipython3",
   "version": "3.6.2"
  }
 },
 "nbformat": 4,
 "nbformat_minor": 0
}
