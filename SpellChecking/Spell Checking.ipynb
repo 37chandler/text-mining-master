{
 "cells": [
  {
   "cell_type": "markdown",
   "metadata": {},
   "source": [
    "## Spell checking\n",
    "\n",
    "This workbook holds some exploration of the spell checking code."
   ]
  },
  {
   "cell_type": "code",
   "execution_count": 1,
   "metadata": {
    "collapsed": true
   },
   "outputs": [],
   "source": [
    "from spell_check import * "
   ]
  },
  {
   "cell_type": "code",
   "execution_count": 2,
   "metadata": {
    "collapsed": false
   },
   "outputs": [],
   "source": [
    "letters = 'abcdefghijklmnopqrstuvwxyz'\n",
    "word = \"monkey\"\n",
    "splits     = [(word[:i], word[i:])    for i in range(len(word) + 1)]\n",
    "deletes    = [L + R[1:]               for L, R in splits if R]\n",
    "transposes = [L + R[1] + R[0] + R[2:] for L, R in splits if len(R)>1]\n",
    "replaces   = [L + c + R[1:]           for L, R in splits if R for c in letters]\n",
    "inserts    = [L + c + R               for L, R in splits for c in letters]"
   ]
  },
  {
   "cell_type": "code",
   "execution_count": 3,
   "metadata": {
    "collapsed": false
   },
   "outputs": [
    {
     "data": {
      "text/plain": [
       "[('', 'monkey'),\n",
       " ('m', 'onkey'),\n",
       " ('mo', 'nkey'),\n",
       " ('mon', 'key'),\n",
       " ('monk', 'ey'),\n",
       " ('monke', 'y'),\n",
       " ('monkey', '')]"
      ]
     },
     "execution_count": 3,
     "metadata": {},
     "output_type": "execute_result"
    }
   ],
   "source": [
    "splits"
   ]
  },
  {
   "cell_type": "code",
   "execution_count": 4,
   "metadata": {
    "collapsed": false
   },
   "outputs": [
    {
     "data": {
      "text/plain": [
       "['monwey',\n",
       " 'monxey',\n",
       " 'monyey',\n",
       " 'monzey',\n",
       " 'monkay',\n",
       " 'monkby',\n",
       " 'monkcy',\n",
       " 'monkdy',\n",
       " 'monkey',\n",
       " 'monkfy',\n",
       " 'monkgy',\n",
       " 'monkhy',\n",
       " 'monkiy',\n",
       " 'monkjy',\n",
       " 'monkky',\n",
       " 'monkly',\n",
       " 'monkmy',\n",
       " 'monkny',\n",
       " 'monkoy',\n",
       " 'monkpy']"
      ]
     },
     "execution_count": 4,
     "metadata": {},
     "output_type": "execute_result"
    }
   ],
   "source": [
    "replaces[100:120]"
   ]
  },
  {
   "cell_type": "code",
   "execution_count": 5,
   "metadata": {
    "collapsed": false
   },
   "outputs": [
    {
     "data": {
      "text/plain": [
       "{'donkey', 'money', 'monkey', 'monkeys'}"
      ]
     },
     "execution_count": 5,
     "metadata": {},
     "output_type": "execute_result"
    }
   ],
   "source": [
    "known(edits1(\"monkey\"))"
   ]
  },
  {
   "cell_type": "code",
   "execution_count": 6,
   "metadata": {
    "collapsed": false
   },
   "outputs": [
    {
     "data": {
      "text/plain": [
       "[('the', 79809),\n",
       " ('of', 40024),\n",
       " ('and', 38312),\n",
       " ('to', 28765),\n",
       " ('in', 22023),\n",
       " ('a', 21124),\n",
       " ('that', 12512),\n",
       " ('he', 12401),\n",
       " ('was', 11410),\n",
       " ('it', 10681)]"
      ]
     },
     "execution_count": 6,
     "metadata": {},
     "output_type": "execute_result"
    }
   ],
   "source": [
    "WORDS.most_common(10)"
   ]
  },
  {
   "cell_type": "code",
   "execution_count": 7,
   "metadata": {
    "collapsed": false
   },
   "outputs": [
    {
     "data": {
      "text/plain": [
       "'taste'"
      ]
     },
     "execution_count": 7,
     "metadata": {},
     "output_type": "execute_result"
    }
   ],
   "source": [
    "correction(\"tasts\")"
   ]
  },
  {
   "cell_type": "code",
   "execution_count": 11,
   "metadata": {
    "collapsed": false
   },
   "outputs": [
    {
     "data": {
      "text/plain": [
       "'the'"
      ]
     },
     "execution_count": 11,
     "metadata": {},
     "output_type": "execute_result"
    }
   ],
   "source": [
    "correction(\"thew\")"
   ]
  },
  {
   "cell_type": "code",
   "execution_count": 10,
   "metadata": {
    "collapsed": false
   },
   "outputs": [
    {
     "data": {
      "text/plain": [
       "['atkinson', 'ipatka', 'kibitka', 'mitka', 'ignatka', 'otkupshchik']"
      ]
     },
     "execution_count": 10,
     "metadata": {},
     "output_type": "execute_result"
    }
   ],
   "source": [
    "[a for a in WORDS if \"tk\" in a.lower()]"
   ]
  },
  {
   "cell_type": "markdown",
   "metadata": {},
   "source": [
    "---\n",
    "\n",
    "## Running over Twitter Descriptions\n",
    "\n",
    "1. Run the spell checker over the first 1000 descriptions from one of your Twitter files. \n",
    "\n",
    "1. Print the misspelled words along with their correction. \n",
    "\n",
    "1. How many seem to be legit misspellings?\n"
   ]
  },
  {
   "cell_type": "code",
   "execution_count": 12,
   "metadata": {
    "collapsed": true
   },
   "outputs": [],
   "source": [
    "# Read in the twitter data\n",
    "file_location = \"C:\\\\Users\\\\jchan\\\\Dropbox\\\\Teaching\\\\2017_Spring\\\\UnstructuredData\\\\PreWork\\\\\"\n",
    "file_name = \"20170305_GeneralMills_followers.txt\"\n",
    "\n",
    "descs = []\n",
    "with open(file_location + file_name,'r') as ifile :\n",
    "    next(ifile)\n",
    "    for idx, line in enumerate(ifile.readlines()) :\n",
    "        line = line.strip().split(\"\\t\")\n",
    "        \n",
    "        # spot 6 has the description\n",
    "        if len(line) >= 7 : # sometimes we don't have descriptions\n",
    "            descs.extend(line[6].split())\n",
    "            \n",
    "        if idx > 250 :\n",
    "            break"
   ]
  },
  {
   "cell_type": "code",
   "execution_count": 14,
   "metadata": {
    "collapsed": false
   },
   "outputs": [
    {
     "data": {
      "text/plain": [
       "32198"
      ]
     },
     "execution_count": 14,
     "metadata": {},
     "output_type": "execute_result"
    }
   ],
   "source": [
    "len(WORDS)"
   ]
  },
  {
   "cell_type": "code",
   "execution_count": 13,
   "metadata": {
    "collapsed": false
   },
   "outputs": [
    {
     "name": "stdout",
     "output_type": "stream",
     "text": [
      "selfies : series\n",
      "knick : knock\n",
      "paddy : daddy\n",
      "wack : back\n",
      "oops : loops\n",
      "im : in\n",
      "smellin : smelling\n",
      "sql : sal\n",
      "dba : da\n",
      "decor : door\n",
      "fab : far\n",
      "lex : let\n",
      "curvy : curly\n",
      "pti : piti\n",
      "recipes : recipe\n",
      "skips : ships\n",
      "ig : in\n",
      "kik : kick\n",
      "justiny : justify\n",
      "grad : glad\n",
      "scribe : ascribe\n",
      "fanatic : fantastic\n",
      "womma : comma\n",
      "tweets : sweets\n",
      "yo : to\n",
      "emo : em\n",
      "trump : tramp\n",
      "allergy : clergy\n",
      "providers : provides\n",
      "allergen : alleged\n",
      "jorge : forge\n",
      "whiteners : whiteness\n",
      "casuals : casual\n",
      "grandma : grand\n",
      "hater : later\n",
      "muzak : murat\n",
      "enricher : enriches\n",
      "jigs : figs\n",
      "phenix : phoenix\n",
      "reel : feel\n",
      "stik : stick\n",
      "reels : feels\n",
      "tracker : trace\n",
      "cpm : com\n",
      "inc : in\n",
      "brands : bands\n",
      "cpg : pg\n",
      "walmart : palmar\n",
      "tweeting : meeting\n",
      "tweets : sweets\n",
      "amo : am\n",
      "diversao : diverse\n",
      "chowan : shown\n",
      "nike : like\n",
      "alegre : alert\n",
      "humilde : humble\n",
      "programa : program\n",
      "becas : began\n",
      "info : into\n",
      "mum : sum\n",
      "mom : mon\n",
      "pringles : pringle\n",
      "uks : us\n",
      "brands : bands\n",
      "ameda : area\n",
      "duux : deux\n",
      "sassy : say\n",
      "trunki : trunk\n",
      "donuts : donets\n",
      "theres : there\n",
      "im : in\n",
      "yogi : you\n",
      "mom : mon\n",
      "vibes : vices\n",
      "porkchop : workshop\n",
      "steven : seven\n",
      "possibilties : possibilities\n",
      "ceo : co\n",
      "pun : put\n",
      "comunicacion : communication\n",
      "ferre : ferry\n",
      "rangel : angel\n",
      "ig : in\n",
      "sc : s\n",
      "daviery : dairy\n",
      "steelers : settlers\n",
      "cdg : do\n",
      "creater : greater\n",
      "sns : sons\n",
      "empresa : empress\n",
      "servicios : services\n",
      "medio : media\n",
      "geek : week\n",
      "japon : japan\n",
      "rusia : russia\n",
      "lista : list\n",
      "paises : passes\n",
      "favoritos : favorites\n",
      "poke : spoke\n",
      "recipes : recipe\n",
      "blog : blow\n",
      "mom : mon\n",
      "nicole : nice\n",
      "peopleand : peopled\n",
      "guys : guns\n",
      "wanna : anna\n",
      "hvac : had\n",
      "tech : teach\n",
      "outdoors : outdoor\n",
      "caring : daring\n",
      "argyle : angle\n",
      "vip : lip\n",
      "emojis : femoris\n",
      "sexy : sex\n",
      "kiki : kikin\n",
      "amo : am\n",
      "easley : early\n",
      "nell : well\n",
      "dei : de\n",
      "nuovi : naevi\n",
      "approcci : approach\n",
      "idee : idea\n",
      "mondo : monro\n",
      "delle : delve\n",
      "squash : square\n",
      "robinsons : robinson\n",
      "cant : can\n",
      "meyou : you\n",
      "tweet : sweet\n",
      "hatter : matter\n",
      "bereaved : behaved\n",
      "vt : it\n",
      "wrestling : wresting\n",
      "addict : adduct\n",
      "chock : clock\n",
      "nerd : need\n",
      "fanatic : fantastic\n",
      "uwmadison : madison\n",
      "alumna : alma\n",
      "distribuidor : distributor\n",
      "executivo : executive\n",
      "rt : it\n",
      "danone : done\n",
      "toledo : told\n",
      "smokie : smoke\n",
      "guys : guns\n",
      "debating : dealing\n",
      "cant : can\n",
      "kaz : ka\n",
      "xd : d\n",
      "brew : grew\n",
      "lifei : life\n",
      "taurus : turns\n",
      "pmln : man\n",
      "im : in\n",
      "mom : mon\n",
      "teenagers : teenager\n",
      "coordinator : coordinate\n",
      "communicator : communication\n",
      "ffa : ff\n",
      "civiles : civil\n",
      "salesiana : salesman\n",
      "amoureux : amoureuse\n",
      "gd : go\n",
      "unica : tunica\n",
      "fc : c\n",
      "lehrn : learn\n",
      "hr : he\n",
      "tech : teach\n",
      "expo : exit\n",
      "hr : he\n",
      "exec : even\n",
      "imc : imp\n",
      "univ : unit\n",
      "mba : ma\n",
      "alumni : alum\n",
      "isu : is\n",
      "greenlee : greeley\n",
      "kappa : happy\n",
      "delta : felt\n",
      "campus : camps\n",
      "professionals : professional\n",
      "nerd : need\n",
      "winnipeg : winning\n",
      "cshs : she\n",
      "kik : kick\n",
      "sheeps : sheep\n",
      "mpls : pus\n",
      "utep : step\n",
      "alumni : alum\n",
      "fanatic : fantastic\n",
      "alternates : alternate\n",
      "insights : insight\n",
      "cpg : pg\n",
      "packaging : packing\n",
      "sonido : solid\n",
      "stereo : sterno\n",
      "im : in\n",
      "marissa : drissa\n",
      "mom : mon\n",
      "rgrove : grove\n",
      "peppy : poppy\n",
      "pup : up\n",
      "tv : to\n",
      "assistsnt : assistant\n",
      "medicsl : medical\n",
      "bachalor : bachelor\n",
      "calicut : calcium\n",
      "transporte : transport\n",
      "internacional : international\n",
      "brasil : brazil\n",
      "apc : apt\n",
      "tmig : twig\n",
      "yin : in\n",
      "betari : bear\n",
      "rapper : rapier\n",
      "autistic : artistic\n",
      "axtell : tell\n",
      "draftsman : craftsman\n",
      "duo : do\n",
      "outdoors : outdoor\n",
      "mags : mass\n",
      "unfairness : fairness\n",
      "asap : sap\n",
      "videos : video\n",
      "curbside : subside\n",
      "dhaka : data\n",
      "dhaka : data\n",
      "goood : good\n",
      "hopfully : hopefully\n",
      "kids : kiss\n",
      "hahaha : havana\n",
      "acount : count\n",
      "featured : features\n",
      "forbes : forces\n",
      "nascar : lascar\n",
      "mba : ma\n",
      "avid : aid\n",
      "hd : he\n",
      "megan : began\n",
      "prepping : pressing\n",
      "youtube : couture\n",
      "cpi : epi\n",
      "vending : sending\n",
      "tweeting : meeting\n",
      "cpi : epi\n",
      "hq : he\n",
      "vending : sending\n",
      "carwash : crash\n",
      "ser : her\n",
      "humano : human\n",
      "cuyo : cut\n",
      "objetivo : objective\n",
      "ser : her\n",
      "feliz : felix\n",
      "teams : tears\n",
      "decisiones : decisions\n",
      "una : un\n",
      "compania : company\n",
      "mas : was\n",
      "anos : anus\n",
      "experiencia : experience\n",
      "ofrece : free\n",
      "servicios : services\n",
      "cadena : cadet\n",
      "allegra : allegro\n",
      "specializes : specialized\n",
      "promotional : promotion\n",
      "rab : ran\n",
      "empresa : empress\n",
      "transporte : transport\n",
      "carga : cargo\n",
      "mas : was\n",
      "anos : anus\n",
      "una : un\n",
      "por : for\n",
      "sus : us\n",
      "aliados : alias\n",
      "clientes : clients\n",
      "detras : betray\n",
      "toda : today\n",
      "accion : action\n",
      "suele : see\n",
      "beneficio : beneficial\n",
      "propio : proper\n",
      "jh : oh\n",
      "mom : mon\n",
      "oakley : valley\n",
      "drpepper : pepper\n",
      "Found 289 misspellings.\n"
     ]
    }
   ],
   "source": [
    "misspell_count = 0\n",
    "\n",
    "non_alpha = re.compile(r\"[^a-z]\")\n",
    "\n",
    "for idx, word in enumerate(descs) :\n",
    "    word = word.lower()\n",
    "    word = non_alpha.sub(\"\",word)\n",
    "    \n",
    "    if word : # get rid of blanks\n",
    "        c = correction(word)\n",
    "        if c != word :\n",
    "            misspell_count += 1\n",
    "            print(\" : \".join([word,c]))\n",
    "\n",
    "#        if idx > 100 :\n",
    "#            break\n",
    "print(\"Found \" + str(misspell_count) + \" misspellings.\")"
   ]
  }
 ],
 "metadata": {
  "kernelspec": {
   "display_name": "Python 3",
   "language": "python",
   "name": "python3"
  },
  "language_info": {
   "codemirror_mode": {
    "name": "ipython",
    "version": 3
   },
   "file_extension": ".py",
   "mimetype": "text/x-python",
   "name": "python",
   "nbconvert_exporter": "python",
   "pygments_lexer": "ipython3",
   "version": "3.6.2"
  }
 },
 "nbformat": 4,
 "nbformat_minor": 0
}
