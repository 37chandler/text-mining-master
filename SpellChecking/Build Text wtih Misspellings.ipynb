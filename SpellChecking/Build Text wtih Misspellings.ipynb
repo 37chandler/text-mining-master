{
 "cells": [
  {
   "cell_type": "markdown",
   "metadata": {},
   "source": [
    "This file builds a big text file full of misspellings."
   ]
  },
  {
   "cell_type": "code",
   "execution_count": 1,
   "metadata": {
    "collapsed": false
   },
   "outputs": [
    {
     "name": "stdout",
     "output_type": "stream",
     "text": [
      "*** Introductory Examples for the NLTK Book ***\n",
      "Loading text1, ..., text9 and sent1, ..., sent9\n",
      "Type the name of the text or sentence to view it.\n",
      "Type: 'texts()' or 'sents()' to list the materials.\n",
      "text1: Moby Dick by Herman Melville 1851\n",
      "text2: Sense and Sensibility by Jane Austen 1811\n",
      "text3: The Book of Genesis\n",
      "text4: Inaugural Address Corpus\n",
      "text5: Chat Corpus\n",
      "text6: Monty Python and the Holy Grail\n",
      "text7: Wall Street Journal\n",
      "text8: Personals Corpus\n",
      "text9: The Man Who Was Thursday by G . K . Chesterton 1908\n"
     ]
    }
   ],
   "source": [
    "import nltk\n",
    "from nltk.book import *\n",
    "from collections import defaultdict\n",
    "from random import random, choice\n",
    "\n",
    "misspell1 = \"spell-testset1.txt\"\n",
    "misspell2 = \"spell-testset2.txt\"\n",
    "\n",
    "errors = defaultdict(list)"
   ]
  },
  {
   "cell_type": "code",
   "execution_count": 2,
   "metadata": {
    "collapsed": false
   },
   "outputs": [],
   "source": [
    "with open(misspell1,'r') as infile :\n",
    "    for line in infile.readlines() :\n",
    "        word, wrong_words = line.strip().split(\":\")\n",
    "        errors[word.strip()] = wrong_words.split()\n",
    "\n",
    "with open(misspell2,'r') as infile :\n",
    "    for line in infile.readlines() :\n",
    "        word, wrong_words = line.strip().split(\":\")\n",
    "        errors[word.strip()] = wrong_words.split()\n"
   ]
  },
  {
   "cell_type": "markdown",
   "metadata": {},
   "source": [
    "I like the look of `text7`, the WSJ corpus."
   ]
  },
  {
   "cell_type": "code",
   "execution_count": 8,
   "metadata": {
    "collapsed": false
   },
   "outputs": [],
   "source": [
    "output_file = \"wsj_with_errors.txt\"\n",
    "\n",
    "with open(output_file,'w') as ofile :\n",
    "    for idx, word in enumerate(text7) :\n",
    "        if idx % 10 == 0 :\n",
    "            ofile.write(\"\\n\")\n",
    "        if word.lower() in errors :\n",
    "            if random() < 0.03 : # three percent chance of error\n",
    "                wrong_word = choice(errors[word.lower()])\n",
    "                #print(wrong_word)\n",
    "                ofile.write(wrong_word + \" \")\n",
    "        else :\n",
    "            ofile.write(word + \" \")\n"
   ]
  }
 ],
 "metadata": {
  "kernelspec": {
   "display_name": "Python 3",
   "language": "python",
   "name": "python3"
  },
  "language_info": {
   "codemirror_mode": {
    "name": "ipython",
    "version": 3
   },
   "file_extension": ".py",
   "mimetype": "text/x-python",
   "name": "python",
   "nbconvert_exporter": "python",
   "pygments_lexer": "ipython3",
   "version": "3.6.2"
  }
 },
 "nbformat": 4,
 "nbformat_minor": 2
}
