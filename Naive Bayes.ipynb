{
 "cells": [
  {
   "cell_type": "markdown",
   "metadata": {},
   "source": [
    "## Naive Bayes Classifiers\n",
    "A powerful and intutitive technique. File this one away, it'll often teach you a lot about a problem, even if it doesn't \"win\" the accuracy game. First some examples from NLTK."
   ]
  },
  {
   "cell_type": "code",
   "execution_count": 1,
   "metadata": {
    "collapsed": false
   },
   "outputs": [],
   "source": [
    "import nltk\n",
    "\n",
    "from nltk.corpus import names\n",
    "import random\n",
    "\n",
    "# Create some labeled observations\n",
    "labeled_names = ([(name, 'male') for name in names.words('male.txt')] +\n",
    "                 [(name, 'female') for name in names.words('female.txt')])\n",
    "\n",
    "# shuffle so that we can have a training and test set\n",
    "random.shuffle(labeled_names)"
   ]
  },
  {
   "cell_type": "code",
   "execution_count": 2,
   "metadata": {
    "collapsed": true
   },
   "outputs": [],
   "source": [
    "# For the purposes of this toy example, we just use the last letters as our only feature\n",
    "def gender_features(word):\n",
    "    return {'last_letter': word[-1]}"
   ]
  },
  {
   "cell_type": "markdown",
   "metadata": {},
   "source": [
    "For this next line, read a bit about what's going on with this classifier [here](http://www.nltk.org/book/ch06.html). "
   ]
  },
  {
   "cell_type": "code",
   "execution_count": 3,
   "metadata": {
    "collapsed": false
   },
   "outputs": [],
   "source": [
    "featuresets = [(gender_features(n), gender) for (n, gender) in labeled_names]\n",
    "train_set, test_set = featuresets[500:], featuresets[:500]\n",
    "classifier = nltk.NaiveBayesClassifier.train(train_set)"
   ]
  },
  {
   "cell_type": "code",
   "execution_count": 4,
   "metadata": {
    "collapsed": false
   },
   "outputs": [
    {
     "name": "stdout",
     "output_type": "stream",
     "text": [
      "0.78\n"
     ]
    }
   ],
   "source": [
    "# Test vs train\n",
    "print(nltk.classify.accuracy(classifier, test_set))"
   ]
  },
  {
   "cell_type": "code",
   "execution_count": 5,
   "metadata": {
    "collapsed": false
   },
   "outputs": [
    {
     "name": "stdout",
     "output_type": "stream",
     "text": [
      "ethan classified as male\n",
      "rachael classified as male\n",
      "bryce classified as female\n",
      "guedem classified as male\n",
      "marty classified as female\n",
      "chris classified as male\n",
      "ryan classified as male\n",
      "omid classified as male\n",
      "christabelle classified as female\n",
      "hayley classified as female\n",
      "mary classified as female\n",
      "kelly classified as female\n",
      "mike classified as female\n",
      "ashley classified as female\n",
      "liz classified as male\n",
      "hannah classified as female\n",
      "jason classified as male\n",
      "0.6470588235294117\n"
     ]
    }
   ],
   "source": [
    "our_class = \"ethan rachael bryce guedem marty chris ryan omid christabelle hayley mary kelly mike ashley liz hannah jason\".split()\n",
    "\n",
    "for student in our_class :\n",
    "    print(student + \" classified as \" + classifier.classify(gender_features(student)))\n",
    "\n",
    "# Errors on Bryce, Guedem, Marty, Kelly, Mike, Liz\n",
    "print(1-6/len(our_class)) #65% accuracy"
   ]
  },
  {
   "cell_type": "code",
   "execution_count": 11,
   "metadata": {
    "collapsed": false
   },
   "outputs": [
    {
     "data": {
      "text/plain": [
       "2943"
      ]
     },
     "execution_count": 11,
     "metadata": {},
     "output_type": "execute_result"
    }
   ],
   "source": [
    "from collections import Counter\n",
    "\n",
    "num_males = 0\n",
    "\n",
    "for item in featuresets :\n",
    "    dd, gender = item\n",
    "    \n",
    "    if gender == \"male\" :\n",
    "        num_males += 1\n",
    "    \n",
    "\n",
    "    \n",
    "\n",
    "num_males"
   ]
  },
  {
   "cell_type": "code",
   "execution_count": 12,
   "metadata": {
    "collapsed": false
   },
   "outputs": [
    {
     "data": {
      "text/plain": [
       "Counter({'female': 5001, 'male': 2943})"
      ]
     },
     "execution_count": 12,
     "metadata": {},
     "output_type": "execute_result"
    }
   ],
   "source": [
    "Counter([gender for dd, gender in featuresets])"
   ]
  },
  {
   "cell_type": "code",
   "execution_count": 6,
   "metadata": {
    "collapsed": false
   },
   "outputs": [
    {
     "name": "stdout",
     "output_type": "stream",
     "text": [
      "Most Informative Features\n",
      "             last_letter = 'a'            female : male   =     34.7 : 1.0\n",
      "             last_letter = 'k'              male : female =     30.5 : 1.0\n",
      "             last_letter = 'f'              male : female =     17.1 : 1.0\n",
      "             last_letter = 'p'              male : female =     11.8 : 1.0\n",
      "             last_letter = 'v'              male : female =     11.1 : 1.0\n",
      "             last_letter = 'd'              male : female =      9.7 : 1.0\n",
      "             last_letter = 'm'              male : female =      9.3 : 1.0\n",
      "             last_letter = 'o'              male : female =      8.8 : 1.0\n",
      "             last_letter = 'r'              male : female =      7.0 : 1.0\n",
      "             last_letter = 'w'              male : female =      6.5 : 1.0\n",
      "             last_letter = 'g'              male : female =      5.4 : 1.0\n",
      "             last_letter = 'z'              male : female =      4.3 : 1.0\n",
      "             last_letter = 't'              male : female =      4.1 : 1.0\n",
      "             last_letter = 's'              male : female =      4.1 : 1.0\n",
      "             last_letter = 'j'              male : female =      3.9 : 1.0\n",
      "             last_letter = 'i'            female : male   =      3.8 : 1.0\n",
      "             last_letter = 'b'              male : female =      3.6 : 1.0\n",
      "             last_letter = 'u'              male : female =      3.2 : 1.0\n",
      "             last_letter = 'n'              male : female =      2.1 : 1.0\n",
      "             last_letter = 'x'              male : female =      1.9 : 1.0\n",
      "             last_letter = 'e'            female : male   =      1.8 : 1.0\n",
      "             last_letter = 'l'              male : female =      1.7 : 1.0\n",
      "             last_letter = 'h'              male : female =      1.6 : 1.0\n",
      "             last_letter = 'y'              male : female =      1.2 : 1.0\n"
     ]
    }
   ],
   "source": [
    "# let's just look at all the features. Usually you'd only show a few\n",
    "classifier.show_most_informative_features(26)"
   ]
  },
  {
   "cell_type": "code",
   "execution_count": 24,
   "metadata": {
    "collapsed": true
   },
   "outputs": [],
   "source": [
    "random.shuffle(labeled_names) # Use this to shuffle in place to build training and test set"
   ]
  },
  {
   "cell_type": "code",
   "execution_count": 25,
   "metadata": {
    "collapsed": true
   },
   "outputs": [],
   "source": [
    "test_size = 500\n",
    "devtest_size = 1000\n",
    "\n",
    "train_names = labeled_names[(test_size + devtest_size):]\n",
    "devtest_names = labeled_names[test_size:(test_size + devtest_size)]\n",
    "test_names = labeled_names[:test_size]"
   ]
  },
  {
   "cell_type": "code",
   "execution_count": 26,
   "metadata": {
    "collapsed": false
   },
   "outputs": [],
   "source": [
    "errors = []\n",
    "for (name, tag) in devtest_names:\n",
    "    guess = classifier.classify(gender_features(name))\n",
    "    if guess != tag:\n",
    "        errors.append( (tag, guess, name) )"
   ]
  },
  {
   "cell_type": "markdown",
   "metadata": {},
   "source": [
    "Read the results of the cells below, and form some hypotheses of additional features to add. "
   ]
  },
  {
   "cell_type": "code",
   "execution_count": 27,
   "metadata": {
    "collapsed": false
   },
   "outputs": [
    {
     "name": "stdout",
     "output_type": "stream",
     "text": [
      "correct=female   guess=male     name=Abigail                       \n",
      "correct=female   guess=male     name=Adel                          \n",
      "correct=female   guess=male     name=Aigneis                       \n",
      "correct=female   guess=male     name=Alison                        \n",
      "correct=female   guess=male     name=Alisun                        \n",
      "correct=female   guess=male     name=Alleen                        \n",
      "correct=female   guess=male     name=Allyn                         \n",
      "correct=female   guess=male     name=Anabel                        \n",
      "correct=female   guess=male     name=Ardis                         \n",
      "correct=female   guess=male     name=Arleen                        \n",
      "correct=female   guess=male     name=Averyl                        \n",
      "correct=female   guess=male     name=Ayn                           \n",
      "correct=female   guess=male     name=Bab                           \n",
      "correct=female   guess=male     name=Beryl                         \n",
      "correct=female   guess=male     name=Bliss                         \n",
      "correct=female   guess=male     name=Bo                            \n",
      "correct=female   guess=male     name=Brear                         \n",
      "correct=female   guess=male     name=Brigid                        \n",
      "correct=female   guess=male     name=Caitlin                       \n",
      "correct=female   guess=male     name=Cam                           \n",
      "correct=female   guess=male     name=Carol                         \n",
      "correct=female   guess=male     name=Carol-Jean                    \n",
      "correct=female   guess=male     name=Carolan                       \n",
      "correct=female   guess=male     name=Carolyn                       \n",
      "correct=female   guess=male     name=Caron                         \n",
      "correct=female   guess=male     name=Cherilynn                     \n",
      "correct=female   guess=male     name=Christin                      \n",
      "correct=female   guess=male     name=Cindelyn                      \n",
      "correct=female   guess=male     name=Coral                         \n",
      "correct=female   guess=male     name=Cris                          \n",
      "correct=female   guess=male     name=Cristen                       \n",
      "correct=female   guess=male     name=Cybal                         \n",
      "correct=female   guess=male     name=Cybill                        \n",
      "correct=female   guess=male     name=Dagmar                        \n",
      "correct=female   guess=male     name=Danit                         \n",
      "correct=female   guess=male     name=Darell                        \n",
      "correct=female   guess=male     name=Darryl                        \n",
      "correct=female   guess=male     name=Deeann                        \n",
      "correct=female   guess=male     name=Del                           \n",
      "correct=female   guess=male     name=Dian                          \n",
      "correct=female   guess=male     name=Dionis                        \n",
      "correct=female   guess=male     name=Dolores                       \n",
      "correct=female   guess=male     name=Dot                           \n",
      "correct=female   guess=male     name=Esther                        \n",
      "correct=female   guess=male     name=Eveleen                       \n",
      "correct=female   guess=male     name=Gabriel                       \n",
      "correct=female   guess=male     name=Gen                           \n",
      "correct=female   guess=male     name=Gennifer                      \n",
      "correct=female   guess=male     name=Gertrudis                     \n",
      "correct=female   guess=male     name=Greer                         \n",
      "correct=female   guess=male     name=Gretal                        \n",
      "correct=female   guess=male     name=Guendolen                     \n",
      "correct=female   guess=male     name=Hedwig                        \n",
      "correct=female   guess=male     name=Hesther                       \n",
      "correct=female   guess=male     name=Imojean                       \n",
      "correct=female   guess=male     name=Ingeberg                      \n",
      "correct=female   guess=male     name=Jan                           \n",
      "correct=female   guess=male     name=Janean                        \n",
      "correct=female   guess=male     name=Jaquelin                      \n",
      "correct=female   guess=male     name=Jean                          \n",
      "correct=female   guess=male     name=Jenn                          \n",
      "correct=female   guess=male     name=Jessalin                      \n",
      "correct=female   guess=male     name=Jill                          \n",
      "correct=female   guess=male     name=Jo Ann                        \n",
      "correct=female   guess=male     name=Joleen                        \n",
      "correct=female   guess=male     name=Jordan                        \n",
      "correct=female   guess=male     name=Kaitlyn                       \n",
      "correct=female   guess=male     name=Kameko                        \n",
      "correct=female   guess=male     name=Katharyn                      \n",
      "correct=female   guess=male     name=Katheleen                     \n",
      "correct=female   guess=male     name=Kiersten                      \n",
      "correct=female   guess=male     name=Kim                           \n",
      "correct=female   guess=male     name=Kirstyn                       \n",
      "correct=female   guess=male     name=Kristan                       \n",
      "correct=female   guess=male     name=Laureen                       \n",
      "correct=female   guess=male     name=LeeAnn                        \n",
      "correct=female   guess=male     name=Lib                           \n",
      "correct=female   guess=male     name=Linnell                       \n",
      "correct=female   guess=male     name=Lyndel                        \n",
      "correct=female   guess=male     name=Lynnell                       \n",
      "correct=female   guess=male     name=Mabel                         \n",
      "correct=female   guess=male     name=Madel                         \n",
      "correct=female   guess=male     name=Madelyn                       \n",
      "correct=female   guess=male     name=Margaret                      \n",
      "correct=female   guess=male     name=Marian                        \n",
      "correct=female   guess=male     name=Marin                         \n",
      "correct=female   guess=male     name=Marlo                         \n",
      "correct=female   guess=male     name=Marlyn                        \n",
      "correct=female   guess=male     name=Meggan                        \n",
      "correct=female   guess=male     name=Meghan                        \n",
      "correct=female   guess=male     name=Mehetabel                     \n",
      "correct=female   guess=male     name=Meriel                        \n",
      "correct=female   guess=male     name=Meryl                         \n",
      "correct=female   guess=male     name=Milicent                      \n",
      "correct=female   guess=male     name=Milissent                     \n",
      "correct=female   guess=male     name=Muriel                        \n",
      "correct=female   guess=male     name=Nanon                         \n",
      "correct=female   guess=male     name=Peg                           \n",
      "correct=female   guess=male     name=Pet                           \n",
      "correct=female   guess=male     name=Quinn                         \n",
      "correct=female   guess=male     name=Raychel                       \n",
      "correct=female   guess=male     name=Rayshell                      \n",
      "correct=female   guess=male     name=Rhiamon                       \n",
      "correct=female   guess=male     name=Rianon                        \n",
      "correct=female   guess=male     name=Robbin                        \n",
      "correct=female   guess=male     name=Robyn                         \n",
      "correct=female   guess=male     name=Rosamond                      \n",
      "correct=female   guess=male     name=Roz                           \n",
      "correct=female   guess=male     name=Sara-Ann                      \n",
      "correct=female   guess=male     name=Scarlett                      \n",
      "correct=female   guess=male     name=Sean                          \n",
      "correct=female   guess=male     name=Sharon                        \n",
      "correct=female   guess=male     name=Sib                           \n",
      "correct=female   guess=male     name=Sinead                        \n",
      "correct=female   guess=male     name=Star                          \n",
      "correct=female   guess=male     name=Tiff                          \n",
      "correct=female   guess=male     name=Veradis                       \n",
      "correct=male     guess=female   name=Alaa                          \n",
      "correct=male     guess=female   name=Alexei                        \n",
      "correct=male     guess=female   name=Ambrose                       \n",
      "correct=male     guess=female   name=Anatoly                       \n",
      "correct=male     guess=female   name=Andre                         \n",
      "correct=male     guess=female   name=Antony                        \n",
      "correct=male     guess=female   name=Ari                           \n",
      "correct=male     guess=female   name=Avery                         \n",
      "correct=male     guess=female   name=Barclay                       \n",
      "correct=male     guess=female   name=Bary                          \n",
      "correct=male     guess=female   name=Bennie                        \n",
      "correct=male     guess=female   name=Berkie                        \n",
      "correct=male     guess=female   name=Bernie                        \n",
      "correct=male     guess=female   name=Billie                        \n",
      "correct=male     guess=female   name=Blake                         \n",
      "correct=male     guess=female   name=Boniface                      \n",
      "correct=male     guess=female   name=Bradley                       \n",
      "correct=male     guess=female   name=Brooke                        \n",
      "correct=male     guess=female   name=Butch                         \n",
      "correct=male     guess=female   name=Casey                         \n",
      "correct=male     guess=female   name=Charlie                       \n",
      "correct=male     guess=female   name=Chrissy                       \n",
      "correct=male     guess=female   name=Christophe                    \n",
      "correct=male     guess=female   name=Clare                         \n",
      "correct=male     guess=female   name=Claude                        \n",
      "correct=male     guess=female   name=Courtney                      \n",
      "correct=male     guess=female   name=Dana                          \n",
      "correct=male     guess=female   name=Dannie                        \n",
      "correct=male     guess=female   name=Dante                         \n",
      "correct=male     guess=female   name=Davy                          \n",
      "correct=male     guess=female   name=Dennie                        \n",
      "correct=male     guess=female   name=Dominique                     \n",
      "correct=male     guess=female   name=Duffy                         \n",
      "correct=male     guess=female   name=Elisha                        \n",
      "correct=male     guess=female   name=Elroy                         \n",
      "correct=male     guess=female   name=Ely                           \n",
      "correct=male     guess=female   name=Frankie                       \n",
      "correct=male     guess=female   name=Frederich                     \n",
      "correct=male     guess=female   name=Geoffrey                      \n",
      "correct=male     guess=female   name=Geri                          \n",
      "correct=male     guess=female   name=Giovanne                      \n",
      "correct=male     guess=female   name=Giovanni                      \n",
      "correct=male     guess=female   name=Goose                         \n",
      "correct=male     guess=female   name=Grady                         \n",
      "correct=male     guess=female   name=Gregory                       \n",
      "correct=male     guess=female   name=Hale                          \n",
      "correct=male     guess=female   name=Harvie                        \n",
      "correct=male     guess=female   name=Helmuth                       \n",
      "correct=male     guess=female   name=Hewe                          \n",
      "correct=male     guess=female   name=Hewie                         \n",
      "correct=male     guess=female   name=Hilary                        \n",
      "correct=male     guess=female   name=Hillery                       \n",
      "correct=male     guess=female   name=Hirsch                        \n",
      "correct=male     guess=female   name=Humphrey                      \n",
      "correct=male     guess=female   name=Ike                           \n",
      "correct=male     guess=female   name=Ira                           \n",
      "correct=male     guess=female   name=Jeremy                        \n",
      "correct=male     guess=female   name=Jodi                          \n",
      "correct=male     guess=female   name=Josiah                        \n",
      "correct=male     guess=female   name=Kane                          \n",
      "correct=male     guess=female   name=Kenny                         \n",
      "correct=male     guess=female   name=Krishna                       \n",
      "correct=male     guess=female   name=Lefty                         \n",
      "correct=male     guess=female   name=Leigh                         \n",
      "correct=male     guess=female   name=Leroy                         \n",
      "correct=male     guess=female   name=Luke                          \n",
      "correct=male     guess=female   name=Mahesh                        \n",
      "correct=male     guess=female   name=Maurice                       \n",
      "correct=male     guess=female   name=Micky                         \n",
      "correct=male     guess=female   name=Mikey                         \n",
      "correct=male     guess=female   name=Moise                         \n",
      "correct=male     guess=female   name=Monty                         \n",
      "correct=male     guess=female   name=Morse                         \n",
      "correct=male     guess=female   name=Mortie                        \n",
      "correct=male     guess=female   name=Murdoch                       \n",
      "correct=male     guess=female   name=Natale                        \n",
      "correct=male     guess=female   name=Neale                         \n",
      "correct=male     guess=female   name=Nicky                         \n",
      "correct=male     guess=female   name=Nikita                        \n",
      "correct=male     guess=female   name=Nikolai                       \n",
      "correct=male     guess=female   name=Ozzy                          \n",
      "correct=male     guess=female   name=Paddy                         \n",
      "correct=male     guess=female   name=Rodolph                       \n",
      "correct=male     guess=female   name=Rodrique                      \n",
      "correct=male     guess=female   name=Ronny                         \n",
      "correct=male     guess=female   name=Roy                           \n",
      "correct=male     guess=female   name=Sammie                        \n",
      "correct=male     guess=female   name=Selby                         \n",
      "correct=male     guess=female   name=Shea                          \n",
      "correct=male     guess=female   name=Skippy                        \n",
      "correct=male     guess=female   name=Stanleigh                     \n",
      "correct=male     guess=female   name=Sydney                        \n",
      "correct=male     guess=female   name=Tally                         \n",
      "correct=male     guess=female   name=Tanney                        \n",
      "correct=male     guess=female   name=Terrance                      \n",
      "correct=male     guess=female   name=Terry                         \n",
      "correct=male     guess=female   name=Tobe                          \n",
      "correct=male     guess=female   name=Toby                          \n",
      "correct=male     guess=female   name=Tony                          \n",
      "correct=male     guess=female   name=Townie                        \n",
      "correct=male     guess=female   name=Tracy                         \n",
      "correct=male     guess=female   name=Tremaine                      \n",
      "correct=male     guess=female   name=Tyrone                        \n",
      "correct=male     guess=female   name=Udale                         \n",
      "correct=male     guess=female   name=Vince                         \n",
      "correct=male     guess=female   name=Wallace                       \n",
      "correct=male     guess=female   name=Welsh                         \n",
      "correct=male     guess=female   name=Wittie                        \n",
      "correct=male     guess=female   name=Woodie                        \n",
      "correct=male     guess=female   name=Woody                         \n",
      "correct=male     guess=female   name=Worthy                        \n",
      "correct=male     guess=female   name=Yule                          \n",
      "correct=male     guess=female   name=Zeke                          \n",
      "correct=male     guess=female   name=Zippy                         \n"
     ]
    }
   ],
   "source": [
    "for (tag, guess, name) in sorted(errors):\n",
    "    print('correct={:<8} guess={:<8s} name={:<30}'.format(tag, guess, name))"
   ]
  },
  {
   "cell_type": "code",
   "execution_count": 13,
   "metadata": {
    "collapsed": false
   },
   "outputs": [],
   "source": [
    "import re\n",
    "hyphen_space = re.compile(r'[ -]') # we haven't covered regular expressions yet....\n",
    "\n",
    "# build your own function. Here's an example to get you started\n",
    "def gender_features_2(word):\n",
    "    ''' This function should take in a word and return a dictionary\n",
    "        with the name of the feature as the key and the value \n",
    "        as the feature value. '''\n",
    "    ll = word[-1]\n",
    "    penultimate = word[-2]\n",
    "    last_3 = word[-3:]\n",
    "    last_4 = word[-4:]\n",
    "    \n",
    "    if hyphen_space.search(word) :\n",
    "        double = True\n",
    "    else :\n",
    "        double = False\n",
    "    \n",
    "    ret_dict = {'last_letter':ll,\n",
    "                'penultimate_y':(penultimate==\"y\"),\n",
    "                'last_3_ann_een':(last_3 in {\"ann\",\"een\"}),\n",
    "                'last_4_lynn' : (last_4 == \"lynn\"),\n",
    "                'double_name' : double}\n",
    "    \n",
    "    return (ret_dict)"
   ]
  },
  {
   "cell_type": "code",
   "execution_count": 14,
   "metadata": {
    "collapsed": false
   },
   "outputs": [
    {
     "data": {
      "text/plain": [
       "{'double_name': False,\n",
       " 'last_3_ann_een': False,\n",
       " 'last_4_lynn': False,\n",
       " 'last_letter': 'n',\n",
       " 'penultimate_y': False}"
      ]
     },
     "execution_count": 14,
     "metadata": {},
     "output_type": "execute_result"
    }
   ],
   "source": [
    "gender_features_2(\"jason\")"
   ]
  },
  {
   "cell_type": "code",
   "execution_count": 21,
   "metadata": {
    "collapsed": false
   },
   "outputs": [
    {
     "data": {
      "text/plain": [
       "['hannah']"
      ]
     },
     "execution_count": 21,
     "metadata": {},
     "output_type": "execute_result"
    }
   ],
   "source": [
    "random.sample(our_class,1)"
   ]
  },
  {
   "cell_type": "code",
   "execution_count": 14,
   "metadata": {
    "collapsed": false
   },
   "outputs": [
    {
     "name": "stdout",
     "output_type": "stream",
     "text": [
      "0.765\n"
     ]
    }
   ],
   "source": [
    "train_set = [(gender_features_2(n), gender) for (n, gender) in train_names]\n",
    "devtest_set = [(gender_features_2(n), gender) for (n, gender) in devtest_names]\n",
    "classifier = nltk.NaiveBayesClassifier.train(train_set)\n",
    "print(nltk.classify.accuracy(classifier, devtest_set))"
   ]
  },
  {
   "cell_type": "code",
   "execution_count": 15,
   "metadata": {
    "collapsed": false
   },
   "outputs": [
    {
     "name": "stdout",
     "output_type": "stream",
     "text": [
      "0.744\n"
     ]
    }
   ],
   "source": [
    "# Once you're done tweaking your code, run this one. \n",
    "print(nltk.classify.accuracy(classifier, test_set))"
   ]
  },
  {
   "cell_type": "code",
   "execution_count": 16,
   "metadata": {
    "collapsed": false
   },
   "outputs": [
    {
     "name": "stdout",
     "output_type": "stream",
     "text": [
      "Most Informative Features\n",
      "             last_letter = 'k'              male : female =     40.4 : 1.0\n",
      "             last_letter = 'a'            female : male   =     37.4 : 1.0\n",
      "             last_letter = 'f'              male : female =     28.8 : 1.0\n",
      "             last_letter = 'p'              male : female =     18.7 : 1.0\n",
      "             last_letter = 'w'              male : female =     10.5 : 1.0\n",
      "             last_letter = 'd'              male : female =      9.6 : 1.0\n",
      "             last_letter = 'v'              male : female =      9.2 : 1.0\n",
      "             last_letter = 'm'              male : female =      7.8 : 1.0\n",
      "             last_letter = 'o'              male : female =      7.7 : 1.0\n",
      "             last_letter = 'r'              male : female =      6.9 : 1.0\n",
      "             last_letter = 'z'              male : female =      6.4 : 1.0\n",
      "          last_3_ann_een = True           female : male   =      6.3 : 1.0\n",
      "             last_letter = 'u'              male : female =      4.7 : 1.0\n",
      "             last_letter = 'g'              male : female =      4.5 : 1.0\n",
      "             last_letter = 'i'            female : male   =      4.2 : 1.0\n",
      "             last_letter = 's'              male : female =      4.1 : 1.0\n",
      "           penultimate_y = True           female : male   =      3.8 : 1.0\n",
      "             last_letter = 't'              male : female =      3.8 : 1.0\n",
      "             last_letter = 'b'              male : female =      3.7 : 1.0\n",
      "             last_4_lynn = True           female : male   =      3.2 : 1.0\n",
      "             last_letter = 'x'              male : female =      2.4 : 1.0\n",
      "             last_letter = 'n'              male : female =      2.1 : 1.0\n",
      "             last_letter = 'e'            female : male   =      1.8 : 1.0\n",
      "             last_letter = 'l'              male : female =      1.8 : 1.0\n",
      "             double_name = True           female : male   =      1.6 : 1.0\n",
      "             last_letter = 'h'              male : female =      1.5 : 1.0\n",
      "             last_letter = 'y'              male : female =      1.2 : 1.0\n",
      "           penultimate_y = False            male : female =      1.0 : 1.0\n",
      "          last_3_ann_een = False            male : female =      1.0 : 1.0\n",
      "             last_4_lynn = False            male : female =      1.0 : 1.0\n"
     ]
    }
   ],
   "source": [
    "classifier.show_most_informative_features(30)"
   ]
  },
  {
   "cell_type": "code",
   "execution_count": 17,
   "metadata": {
    "collapsed": false
   },
   "outputs": [
    {
     "name": "stdout",
     "output_type": "stream",
     "text": [
      "correct=female   guess=male     name=Aeriell                       \n",
      "correct=female   guess=male     name=Aigneis                       \n",
      "correct=female   guess=male     name=Allys                         \n",
      "correct=female   guess=male     name=Anne-Mar                      \n",
      "correct=female   guess=male     name=Astrid                        \n",
      "correct=female   guess=male     name=Ayn                           \n",
      "correct=female   guess=male     name=Babs                          \n",
      "correct=female   guess=male     name=Beatriz                       \n",
      "correct=female   guess=male     name=Brook                         \n",
      "correct=female   guess=male     name=Cameo                         \n",
      "correct=female   guess=male     name=Candis                        \n",
      "correct=female   guess=male     name=Carlyn                        \n",
      "correct=female   guess=male     name=Carolan                       \n",
      "correct=female   guess=male     name=Caroleen                      \n",
      "correct=female   guess=male     name=Caryl                         \n",
      "correct=female   guess=male     name=Cathleen                      \n",
      "correct=female   guess=male     name=Cathrin                       \n",
      "correct=female   guess=male     name=Cathryn                       \n",
      "correct=female   guess=male     name=Catlin                        \n",
      "correct=female   guess=male     name=Cecil                         \n",
      "correct=female   guess=male     name=Charil                        \n",
      "correct=female   guess=male     name=Charmion                      \n",
      "correct=female   guess=male     name=Charyl                        \n",
      "correct=female   guess=male     name=Chrystel                      \n",
      "correct=female   guess=male     name=Coral                         \n",
      "correct=female   guess=male     name=Darb                          \n",
      "correct=female   guess=male     name=Debor                         \n",
      "correct=female   guess=male     name=Devon                         \n",
      "correct=female   guess=male     name=Dew                           \n",
      "correct=female   guess=male     name=Eileen                        \n",
      "correct=female   guess=male     name=Emmalynn                      \n",
      "correct=female   guess=male     name=Ethelind                      \n",
      "correct=female   guess=male     name=Fanchon                       \n",
      "correct=female   guess=male     name=Fawn                          \n",
      "correct=female   guess=male     name=Flower                        \n",
      "correct=female   guess=male     name=Glynis                        \n",
      "correct=female   guess=male     name=Glynnis                       \n",
      "correct=female   guess=male     name=Gredel                        \n",
      "correct=female   guess=male     name=Hannibal                      \n",
      "correct=female   guess=male     name=Inez                          \n",
      "correct=female   guess=male     name=Ingeborg                      \n",
      "correct=female   guess=male     name=Jackelyn                      \n",
      "correct=female   guess=male     name=Janis                         \n",
      "correct=female   guess=male     name=Janot                         \n",
      "correct=female   guess=male     name=Jaquelyn                      \n",
      "correct=female   guess=male     name=Jessamyn                      \n",
      "correct=female   guess=male     name=Jewell                        \n",
      "correct=female   guess=male     name=JoAnn                         \n",
      "correct=female   guess=male     name=Joannes                       \n",
      "correct=female   guess=male     name=Joellen                       \n",
      "correct=female   guess=male     name=Jonell                        \n",
      "correct=female   guess=male     name=Jonis                         \n",
      "correct=female   guess=male     name=Jourdan                       \n",
      "correct=female   guess=male     name=Juliann                       \n",
      "correct=female   guess=male     name=Kara-Lynn                     \n",
      "correct=female   guess=male     name=Karalynn                      \n",
      "correct=female   guess=male     name=Karil                         \n",
      "correct=female   guess=male     name=Karlen                        \n",
      "correct=female   guess=male     name=Karmen                        \n",
      "correct=female   guess=male     name=Karol                         \n",
      "correct=female   guess=male     name=Kellen                        \n",
      "correct=female   guess=male     name=Kerstin                       \n",
      "correct=female   guess=male     name=Kipp                          \n",
      "correct=female   guess=male     name=Koren                         \n",
      "correct=female   guess=male     name=Kristyn                       \n",
      "correct=female   guess=male     name=Lil                           \n",
      "correct=female   guess=male     name=Lillian                       \n",
      "correct=female   guess=male     name=Lorilyn                       \n",
      "correct=female   guess=male     name=Lulu                          \n",
      "correct=female   guess=male     name=Lyndell                       \n",
      "correct=female   guess=male     name=Lynnell                       \n",
      "correct=female   guess=male     name=Lynnet                        \n",
      "correct=female   guess=male     name=Mair                          \n",
      "correct=female   guess=male     name=Margo                         \n",
      "correct=female   guess=male     name=Marian                        \n",
      "correct=female   guess=male     name=Mariann                       \n",
      "correct=female   guess=male     name=Marilin                       \n",
      "correct=female   guess=male     name=Marin                         \n",
      "correct=female   guess=male     name=Marj                          \n",
      "correct=female   guess=male     name=Mead                          \n",
      "correct=female   guess=male     name=Melicent                      \n",
      "correct=female   guess=male     name=Mirabel                       \n",
      "correct=female   guess=male     name=Morgan                        \n",
      "correct=female   guess=male     name=Morgen                        \n",
      "correct=female   guess=male     name=Nadean                        \n",
      "correct=female   guess=male     name=Nitin                         \n",
      "correct=female   guess=male     name=Norean                        \n",
      "correct=female   guess=male     name=Pat                           \n",
      "correct=female   guess=male     name=Phyllis                       \n",
      "correct=female   guess=male     name=Raquel                        \n",
      "correct=female   guess=male     name=Rayshell                      \n",
      "correct=female   guess=male     name=Rhiamon                       \n",
      "correct=female   guess=male     name=Scarlett                      \n",
      "correct=female   guess=male     name=Shannon                       \n",
      "correct=female   guess=male     name=Shel                          \n",
      "correct=female   guess=male     name=Sherilyn                      \n",
      "correct=female   guess=male     name=Shir                          \n",
      "correct=female   guess=male     name=Starlin                       \n",
      "correct=female   guess=male     name=Starr                         \n",
      "correct=female   guess=male     name=Tatum                         \n",
      "correct=female   guess=male     name=Tess                          \n",
      "correct=female   guess=male     name=Theo                          \n",
      "correct=female   guess=male     name=Tiff                          \n",
      "correct=female   guess=male     name=Venus                         \n",
      "correct=female   guess=male     name=Wandis                        \n",
      "correct=female   guess=male     name=Wilow                         \n",
      "correct=female   guess=male     name=Yehudit                       \n",
      "correct=male     guess=female   name=Abdullah                      \n",
      "correct=male     guess=female   name=Addie                         \n",
      "correct=male     guess=female   name=Adlai                         \n",
      "correct=male     guess=female   name=Adolph                        \n",
      "correct=male     guess=female   name=Ambrose                       \n",
      "correct=male     guess=female   name=Andri                         \n",
      "correct=male     guess=female   name=Anthony                       \n",
      "correct=male     guess=female   name=Ari                           \n",
      "correct=male     guess=female   name=Ave                           \n",
      "correct=male     guess=female   name=Baily                         \n",
      "correct=male     guess=female   name=Barney                        \n",
      "correct=male     guess=female   name=Barnie                        \n",
      "correct=male     guess=female   name=Barry                         \n",
      "correct=male     guess=female   name=Beale                         \n",
      "correct=male     guess=female   name=Blayne                        \n",
      "correct=male     guess=female   name=Bobbie                        \n",
      "correct=male     guess=female   name=Bobby                         \n",
      "correct=male     guess=female   name=Buddy                         \n",
      "correct=male     guess=female   name=Carey                         \n",
      "correct=male     guess=female   name=Chauncey                      \n",
      "correct=male     guess=female   name=Che                           \n",
      "correct=male     guess=female   name=Claire                        \n",
      "correct=male     guess=female   name=Clare                         \n",
      "correct=male     guess=female   name=Clive                         \n",
      "correct=male     guess=female   name=Constantine                   \n",
      "correct=male     guess=female   name=Courtney                      \n",
      "correct=male     guess=female   name=Cy                            \n",
      "correct=male     guess=female   name=Dani                          \n",
      "correct=male     guess=female   name=Danny                         \n",
      "correct=male     guess=female   name=Davey                         \n",
      "correct=male     guess=female   name=Davidde                       \n",
      "correct=male     guess=female   name=Davie                         \n",
      "correct=male     guess=female   name=Dickie                        \n",
      "correct=male     guess=female   name=Dwaine                        \n",
      "correct=male     guess=female   name=Dwayne                        \n",
      "correct=male     guess=female   name=Edie                          \n",
      "correct=male     guess=female   name=Emmery                        \n",
      "correct=male     guess=female   name=Erich                         \n",
      "correct=male     guess=female   name=Ezra                          \n",
      "correct=male     guess=female   name=Fletch                        \n",
      "correct=male     guess=female   name=Franky                        \n",
      "correct=male     guess=female   name=Garvey                        \n",
      "correct=male     guess=female   name=Gay                           \n",
      "correct=male     guess=female   name=Gene                          \n",
      "correct=male     guess=female   name=Geoffrey                      \n",
      "correct=male     guess=female   name=Giorgi                        \n",
      "correct=male     guess=female   name=Giovanni                      \n",
      "correct=male     guess=female   name=Godfree                       \n",
      "correct=male     guess=female   name=Greggory                      \n",
      "correct=male     guess=female   name=Hadley                        \n",
      "correct=male     guess=female   name=Haley                         \n",
      "correct=male     guess=female   name=Hari                          \n",
      "correct=male     guess=female   name=Harley                        \n",
      "correct=male     guess=female   name=Hewie                         \n",
      "correct=male     guess=female   name=Ira                           \n",
      "correct=male     guess=female   name=Irvine                        \n",
      "correct=male     guess=female   name=Jake                          \n",
      "correct=male     guess=female   name=Jamey                         \n",
      "correct=male     guess=female   name=Jephthah                      \n",
      "correct=male     guess=female   name=Jeremie                       \n",
      "correct=male     guess=female   name=Jeromy                        \n",
      "correct=male     guess=female   name=Johnnie                       \n",
      "correct=male     guess=female   name=Johny                         \n",
      "correct=male     guess=female   name=Judah                         \n",
      "correct=male     guess=female   name=Jule                          \n",
      "correct=male     guess=female   name=Julie                         \n",
      "correct=male     guess=female   name=Keefe                         \n",
      "correct=male     guess=female   name=Kelly                         \n",
      "correct=male     guess=female   name=Klee                          \n",
      "correct=male     guess=female   name=Lawerence                     \n",
      "correct=male     guess=female   name=Lenny                         \n",
      "correct=male     guess=female   name=Lorne                         \n",
      "correct=male     guess=female   name=Maddy                         \n",
      "correct=male     guess=female   name=Marietta                      \n",
      "correct=male     guess=female   name=Marlowe                       \n",
      "correct=male     guess=female   name=Marty                         \n",
      "correct=male     guess=female   name=Michele                       \n",
      "correct=male     guess=female   name=Mickie                        \n",
      "correct=male     guess=female   name=Monty                         \n",
      "correct=male     guess=female   name=Morlee                        \n",
      "correct=male     guess=female   name=Nevile                        \n",
      "correct=male     guess=female   name=Noah                          \n",
      "correct=male     guess=female   name=Noe                           \n",
      "correct=male     guess=female   name=Normie                        \n",
      "correct=male     guess=female   name=Ollie                         \n",
      "correct=male     guess=female   name=Osbourne                      \n",
      "correct=male     guess=female   name=Ossie                         \n",
      "correct=male     guess=female   name=Ozzy                          \n",
      "correct=male     guess=female   name=Paige                         \n",
      "correct=male     guess=female   name=Patty                         \n",
      "correct=male     guess=female   name=Pepe                          \n",
      "correct=male     guess=female   name=Price                         \n",
      "correct=male     guess=female   name=Radcliffe                     \n",
      "correct=male     guess=female   name=Rafe                          \n",
      "correct=male     guess=female   name=Ramesh                        \n",
      "correct=male     guess=female   name=Randi                         \n",
      "correct=male     guess=female   name=Randolph                      \n",
      "correct=male     guess=female   name=Ravi                          \n",
      "correct=male     guess=female   name=Reece                         \n",
      "correct=male     guess=female   name=Reube                         \n",
      "correct=male     guess=female   name=Rey                           \n",
      "correct=male     guess=female   name=Rich                          \n",
      "correct=male     guess=female   name=Rickey                        \n",
      "correct=male     guess=female   name=Ricki                         \n",
      "correct=male     guess=female   name=Roderich                      \n",
      "correct=male     guess=female   name=Rodolph                       \n",
      "correct=male     guess=female   name=Ronnie                        \n",
      "correct=male     guess=female   name=Ruby                          \n",
      "correct=male     guess=female   name=Samuele                       \n",
      "correct=male     guess=female   name=Sansone                       \n",
      "correct=male     guess=female   name=Say                           \n",
      "correct=male     guess=female   name=Sayre                         \n",
      "correct=male     guess=female   name=Sidnee                        \n",
      "correct=male     guess=female   name=Stinky                        \n",
      "correct=male     guess=female   name=Tannie                        \n",
      "correct=male     guess=female   name=Tate                          \n",
      "correct=male     guess=female   name=Timmy                         \n",
      "correct=male     guess=female   name=Tobie                         \n",
      "correct=male     guess=female   name=Toby                          \n",
      "correct=male     guess=female   name=Toddie                        \n",
      "correct=male     guess=female   name=Torey                         \n",
      "correct=male     guess=female   name=Torrence                      \n",
      "correct=male     guess=female   name=Towny                         \n",
      "correct=male     guess=female   name=Tracey                        \n",
      "correct=male     guess=female   name=Tymothy                       \n",
      "correct=male     guess=female   name=Uli                           \n",
      "correct=male     guess=female   name=Uri                           \n",
      "correct=male     guess=female   name=Verney                        \n",
      "correct=male     guess=female   name=Wadsworth                     \n",
      "correct=male     guess=female   name=Way                           \n",
      "correct=male     guess=female   name=Welby                         \n",
      "correct=male     guess=female   name=Welch                         \n",
      "correct=male     guess=female   name=Whitby                        \n",
      "correct=male     guess=female   name=Whitney                       \n",
      "correct=male     guess=female   name=Wojciech                      \n",
      "correct=male     guess=female   name=Wolfie                        \n",
      "correct=male     guess=female   name=Wylie                         \n",
      "correct=male     guess=female   name=Yancy                         \n",
      "correct=male     guess=female   name=Zach                          \n",
      "correct=male     guess=female   name=Zacharie                      \n",
      "correct=male     guess=female   name=Zane                          \n",
      "correct=male     guess=female   name=Zebedee                       \n",
      "correct=male     guess=female   name=Zeke                          \n"
     ]
    }
   ],
   "source": [
    "for (tag, guess, name) in sorted(errors):\n",
    "    print('correct={:<8} guess={:<8s} name={:<30}'.format(tag, guess, name))"
   ]
  },
  {
   "cell_type": "code",
   "execution_count": null,
   "metadata": {
    "collapsed": true
   },
   "outputs": [],
   "source": []
  }
 ],
 "metadata": {
  "kernelspec": {
   "display_name": "Python 3",
   "language": "python",
   "name": "python3"
  },
  "language_info": {
   "codemirror_mode": {
    "name": "ipython",
    "version": 3
   },
   "file_extension": ".py",
   "mimetype": "text/x-python",
   "name": "python",
   "nbconvert_exporter": "python",
   "pygments_lexer": "ipython3",
   "version": "3.6.2"
  }
 },
 "nbformat": 4,
 "nbformat_minor": 0
}
